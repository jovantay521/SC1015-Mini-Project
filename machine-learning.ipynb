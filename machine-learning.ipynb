{
 "cells": [
  {
   "attachments": {},
   "cell_type": "markdown",
   "metadata": {},
   "source": [
    "# Machine Learning"
   ]
  },
  {
   "cell_type": "markdown",
   "metadata": {},
   "source": []
  },
  {
   "cell_type": "code",
   "execution_count": 1,
   "metadata": {},
   "outputs": [],
   "source": [
    "#import necessary libraries \n",
    "import pandas as pd\n",
    "import numpy as np\n",
    "from sklearn.feature_extraction.text import CountVectorizer\n",
    "from sklearn.metrics.pairwise import cosine_similarity\n"
   ]
  },
  {
   "attachments": {},
   "cell_type": "markdown",
   "metadata": {},
   "source": [
    "Read Data"
   ]
  },
  {
   "cell_type": "code",
   "execution_count": 2,
   "metadata": {},
   "outputs": [],
   "source": [
    "#helper functions\n",
    "def get_title_from_index(index):\n",
    "\treturn moviedataset[moviedataset.index == index][\"title\"].values[0]\n",
    "\n",
    "def get_index_from_title(title):\n",
    "\treturn moviedataset[moviedataset.title == title][\"index\"].values[0]\n",
    "#read data , example file from the video\n",
    "moviedataset = pd.read_csv('https://raw.githubusercontent.com/codeheroku/Introduction-to-Machine-Learning/master/Building%20a%20Movie%20Recommendation%20Engine/movie_dataset.csv')\n"
   ]
  },
  {
   "attachments": {},
   "cell_type": "markdown",
   "metadata": {},
   "source": [
    "Getting the count matrix"
   ]
  },
  {
   "cell_type": "code",
   "execution_count": 3,
   "metadata": {},
   "outputs": [],
   "source": [
    "features = ['keywords','cast','genres','director']\n",
    "for feature in features:\n",
    "    moviedataset[feature] = moviedataset[feature].fillna('')\n",
    "\n",
    "cv = CountVectorizer()\n",
    "\n",
    "count_matrix = {}\n",
    "\n",
    "for feature in features:\n",
    "    count_matrix[feature] = cv.fit_transform(moviedataset[feature])\n",
    "\n",
    "cossimval = {}\n",
    "\n",
    "for feature in features:\n",
    "    cossimval[feature] = cosine_similarity(count_matrix[feature])\n",
    "\n",
    "\n",
    "\n",
    "\n"
   ]
  },
  {
   "attachments": {},
   "cell_type": "markdown",
   "metadata": {},
   "source": [
    "Time to recommend a movie"
   ]
  },
  {
   "cell_type": "code",
   "execution_count": 5,
   "metadata": {},
   "outputs": [
    {
     "name": "stdout",
     "output_type": "stream",
     "text": [
      "Avatar\n",
      "Space Dogs\n",
      "Gravity\n",
      "Jason X\n",
      "Cargo\n",
      "Space Chimps\n",
      "Star Wars: Clone Wars: Volume 1\n",
      "Guardians of the Galaxy\n",
      "Planet of the Apes\n",
      "Alien\n",
      "In the Shadow of the Moon\n"
     ]
    }
   ],
   "source": [
    "#get a user input on a movie\n",
    "\n",
    "fav_movie = 'Avatar'\n",
    "\n",
    "#get index of movie\n",
    "\n",
    "movieindex = get_index_from_title(fav_movie)\n",
    "\n",
    "similar_movies = {}\n",
    "\n",
    "for feature in features:\n",
    "    similar_movies[feature] =  list(enumerate(cossimval[feature][movieindex]))\n",
    "\n",
    "sorted_similar_movies = {}\n",
    "\n",
    "for feature in features:\n",
    "    sorted_similar_movies[feature] = sorted(similar_movies[feature],key=lambda x:x[1],reverse=True)\n",
    "\n",
    "\n",
    "## Step 8: Print titles of first 10 movies based off of\n",
    "i=0\n",
    "for element in sorted_similar_movies['keywords']:\n",
    "\t\tprint (get_title_from_index(element[0]))\n",
    "\t\ti=i+1\n",
    "\t\tif i>10:\n",
    "\t\t\tbreak"
   ]
  }
 ],
 "metadata": {
  "kernelspec": {
   "display_name": "Python 3",
   "language": "python",
   "name": "python3"
  },
  "language_info": {
   "codemirror_mode": {
    "name": "ipython",
    "version": 3
   },
   "file_extension": ".py",
   "mimetype": "text/x-python",
   "name": "python",
   "nbconvert_exporter": "python",
   "pygments_lexer": "ipython3",
   "version": "3.10.4"
  },
  "orig_nbformat": 4
 },
 "nbformat": 4,
 "nbformat_minor": 2
}
