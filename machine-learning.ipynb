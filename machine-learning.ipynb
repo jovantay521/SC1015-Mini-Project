{
 "cells": [
  {
   "attachments": {},
   "cell_type": "markdown",
   "metadata": {},
   "source": [
    "# Machine Learning"
   ]
  },
  {
   "cell_type": "markdown",
   "metadata": {},
   "source": []
  },
  {
   "cell_type": "code",
   "execution_count": 79,
   "metadata": {},
   "outputs": [],
   "source": [
    "#import necessary libraries \n",
    "import pandas as pd\n",
    "import numpy as np\n",
    "from sklearn.feature_extraction.text import CountVectorizer\n",
    "from sklearn.metrics.pairwise import cosine_similarity\n"
   ]
  },
  {
   "attachments": {},
   "cell_type": "markdown",
   "metadata": {},
   "source": [
    "Read Data"
   ]
  },
  {
   "cell_type": "code",
   "execution_count": 80,
   "metadata": {},
   "outputs": [],
   "source": [
    "#helper functions\n",
    "def get_title_from_index(index):\n",
    "\treturn moviedataset[moviedataset.index == index][\"title_duplicate\"].values[0]\n",
    "\n",
    "def get_index_from_title(title):\n",
    "\treturn moviedataset[moviedataset.title == title][\"index\"].values[0]\n",
    "\n",
    "moviedataset = pd.read_csv(\"cleaned-movie-dataset-index.csv\")\n",
    "moviedataset['title_duplicate'] = moviedataset.loc[:, 'title']\n",
    "moviedataset['title'] = moviedataset['title'].str.upper()\n",
    "moviedataset['title'] = moviedataset['title'].str.replace(\" \", \"\")\n",
    "moviedataset['title'] = moviedataset['title'].str.replace(\":\", \"\")\n",
    "\n"
   ]
  },
  {
   "attachments": {},
   "cell_type": "markdown",
   "metadata": {},
   "source": [
    "Getting the count matrix"
   ]
  },
  {
   "cell_type": "code",
   "execution_count": 81,
   "metadata": {},
   "outputs": [],
   "source": [
    "features = ['keywords','casts','genre']\n",
    "for feature in features:\n",
    "    moviedataset[feature] = moviedataset[feature].fillna('')\n",
    "\n",
    "cv = CountVectorizer()\n",
    "\n",
    "count_matrix = {}\n",
    "\n",
    "for feature in features:\n",
    "    count_matrix[feature] = cv.fit_transform(moviedataset[feature])\n",
    "\n",
    "cossimval = {}\n",
    "\n",
    "for feature in features:\n",
    "    cossimval[feature] = cosine_similarity(count_matrix[feature])\n",
    "\n",
    "cossimval['final'] = cossimval['keywords'] + cossimval['genre'] + cossimval['casts']\n",
    "\n"
   ]
  },
  {
   "attachments": {},
   "cell_type": "markdown",
   "metadata": {},
   "source": [
    "Time to recommend a movie"
   ]
  },
  {
   "cell_type": "code",
   "execution_count": 88,
   "metadata": {},
   "outputs": [
    {
     "name": "stdout",
     "output_type": "stream",
     "text": [
      "Selected Movie: Avengers: Endgame\n",
      "Reccomended Movies:\n",
      "1 . Avengers: Infinity War\n",
      "2 . Avengers: Age of Ultron\n",
      "3 . The Avengers\n",
      "4 . Captain America: Civil War\n",
      "5 . Guardians of the Galaxy Vol. 2\n",
      "6 . Captain America: The Winter Soldier\n",
      "7 . Ant-Man\n",
      "8 . Iron Man 2\n",
      "9 . Iron Man 3\n",
      "10 . Guardians of the Galaxy\n",
      "11 . Ant-Man and the Wasp\n"
     ]
    }
   ],
   "source": [
    "#get a user input on a movie\n",
    "\n",
    "fav_movie = input(\"Enter Your Favourite Move\")\n",
    "\n",
    "fav_movie = fav_movie.upper()\n",
    "fav_movie = fav_movie.replace(\" \" , \"\")\n",
    "fav_movie = fav_movie.replace(\":\" , \"\")\n",
    "\n",
    "\n",
    "#get index of movie\n",
    "\n",
    "movieindex = get_index_from_title(fav_movie)\n",
    "#remove favourite movie from dataset (so wont recc same movie)\n",
    "\n",
    "similar_movies = {}\n",
    "\n",
    "similar_movies['final'] =  list(enumerate(cossimval['final'][movieindex]))\n",
    "\n",
    "sorted_similar_movies = {}\n",
    "\n",
    "sorted_similar_movies['final'] = sorted(similar_movies['final'],key=lambda x:x[1],reverse=True)\n",
    "\n",
    "\n",
    "\n",
    "## Step 8: Print titles of first 10 movies based off of\n",
    "i=0\n",
    "for element in sorted_similar_movies['final']:\n",
    "    if element[0] == get_index_from_title(fav_movie):\n",
    "        print('Selected Movie:',get_title_from_index(element[0]))\n",
    "        print('Reccomended Movies:')\n",
    "    else:\n",
    "        print(i+1,\".\",get_title_from_index(element[0]))\n",
    "        i = i + 1\n",
    "        if i > 10:\n",
    "            break"
   ]
  }
 ],
 "metadata": {
  "kernelspec": {
   "display_name": "Python 3",
   "language": "python",
   "name": "python3"
  },
  "language_info": {
   "codemirror_mode": {
    "name": "ipython",
    "version": 3
   },
   "file_extension": ".py",
   "mimetype": "text/x-python",
   "name": "python",
   "nbconvert_exporter": "python",
   "pygments_lexer": "ipython3",
   "version": "3.10.6"
  },
  "orig_nbformat": 4
 },
 "nbformat": 4,
 "nbformat_minor": 2
}
