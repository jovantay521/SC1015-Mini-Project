{
 "cells": [
  {
   "attachments": {},
   "cell_type": "markdown",
   "metadata": {},
   "source": [
    "# Data Preparation and Cleaning"
   ]
  },
  {
   "attachments": {},
   "cell_type": "markdown",
   "metadata": {},
   "source": [
    "### Essential Libraries"
   ]
  },
  {
   "cell_type": "code",
   "execution_count": 35,
   "metadata": {},
   "outputs": [],
   "source": [
    "# Basic Libraries\n",
    "import numpy as np\n",
    "import pandas as pd\n",
    "\n",
    "# For API usage\n",
    "import requests as r\n",
    "\n",
    "# For progress bar\n",
    "from tqdm import tqdm"
   ]
  },
  {
   "attachments": {},
   "cell_type": "markdown",
   "metadata": {},
   "source": [
    "### API Key"
   ]
  },
  {
   "cell_type": "code",
   "execution_count": 36,
   "metadata": {},
   "outputs": [],
   "source": [
    "API_KEY = '7884759e98354ed855458b12c5c2bcdc'"
   ]
  },
  {
   "attachments": {},
   "cell_type": "markdown",
   "metadata": {},
   "source": [
    "### Data Extraction from TMDB"
   ]
  },
  {
   "cell_type": "code",
   "execution_count": null,
   "metadata": {},
   "outputs": [],
   "source": [
    "def get_movies_data():\n",
    "\n",
    "    # Create empty DF to store movie data\n",
    "    movie = pd.DataFrame()\n",
    "\n",
    "    # Get total pages of Discover section\n",
    "    resp = r.get(\"https://api.themoviedb.org/3/discover/movie?\" \\\n",
    "                 f\"api_key={API_KEY}&language=en-US&sort_by=revenue.desc&\" \\\n",
    "                 \"include_adult=true&include_video=false&page=1\")\n",
    "    total_pages = resp.json()['total_pages']\n",
    "\n",
    "    # Relevant movie columns\n",
    "    cols = ['title', 'id', 'adult', 'popularity', 'vote_count', 'vote_average','release_date', 'original_language']\n",
    "\n",
    "    # Iterating through DB pages and appending to movie DF\n",
    "\n",
    "    for i in tqdm(range(1,total_pages + 1)):\n",
    "        resp = r.get(f\"https://api.themoviedb.org/3/discover/movie?api_key={API_KEY}&language=en-US&sort_by=revenue.desc&include_adult=True&include_video=false&page={i}\")\n",
    "        \n",
    "        # Select the relevant columns\n",
    "        data = pd.DataFrame(resp.json()['results'])[cols]\n",
    "        movie = movie.append(data)\n",
    "    \n",
    "    movie = movie.reset_index(drop=True)\n",
    "    \n",
    "    return movie\n",
    "\n",
    "def get_movies_stats(movie_df)"
   ]
  }
 ],
 "metadata": {
  "kernelspec": {
   "display_name": "base",
   "language": "python",
   "name": "python3"
  },
  "language_info": {
   "name": "python",
   "version": "3.9.13"
  },
  "orig_nbformat": 4
 },
 "nbformat": 4,
 "nbformat_minor": 2
}
