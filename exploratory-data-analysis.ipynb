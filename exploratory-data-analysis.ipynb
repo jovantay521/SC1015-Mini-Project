{
 "cells": [
  {
   "cell_type": "markdown",
   "metadata": {},
   "source": [
    "# Exploratory Data Analysis"
   ]
  },
  {
   "cell_type": "markdown",
   "metadata": {},
   "source": [
    "Visualisation of data"
   ]
  },
  {
   "cell_type": "code",
   "execution_count": null,
   "metadata": {},
   "outputs": [],
   "source": [
    "import requests as r\n",
    "import numpy as np\n",
    "import pandas as pd\n",
    "import json\n",
    "import numpy as np\n",
    "import pandas as pd\n",
    "import matplotlib\n",
    "import matplotlib.pyplot as plt\n",
    "import seaborn as sb\n",
    "\n",
    "import warnings\n",
    "warnings.filterwarnings(\"ignore\")\n",
    "\n",
    "plt.style.use('fivethirtyeight') "
   ]
  },
  {
   "cell_type": "code",
   "execution_count": null,
   "metadata": {},
   "outputs": [],
   "source": [
    "moviedata = pd.read_csv('cleaned-movie-dataset.csv',index_col= 0)\n",
    "moviedata"
   ]
  },
  {
   "cell_type": "code",
   "execution_count": null,
   "metadata": {},
   "outputs": [],
   "source": [
    "numericalmoviedata = moviedata[[\"popularity\",\"genre\", \"vote_count\", \"vote_average\",\"release_date\",\"release_year\",\"original_language\",\"casts\"]]"
   ]
  },
  {
   "cell_type": "code",
   "execution_count": null,
   "metadata": {
    "scrolled": true
   },
   "outputs": [],
   "source": [
    "numericalmoviedata.describe()"
   ]
  },
  {
   "cell_type": "code",
   "execution_count": null,
   "metadata": {},
   "outputs": [],
   "source": [
    "onlynumericalmoviedata = moviedata[[\"popularity\",\"vote_count\", \"vote_average\",\"release_year\"]]"
   ]
  },
  {
   "cell_type": "code",
   "execution_count": null,
   "metadata": {
    "scrolled": true
   },
   "outputs": [],
   "source": [
    "pop=pd.DataFrame(moviedata[[\"popularity\"]])\n",
    "sb.violinplot(data=pop,orient=\"h\")"
   ]
  },
  {
   "cell_type": "code",
   "execution_count": null,
   "metadata": {},
   "outputs": [],
   "source": [
    "pop=pd.DataFrame(moviedata[[\"release_year\"]])\n",
    "sb.violinplot(data=pop,orient=\"h\")"
   ]
  },
  {
   "cell_type": "code",
   "execution_count": null,
   "metadata": {
    "scrolled": true
   },
   "outputs": [],
   "source": [
    "numericalmoviedata[\"vote_average\"].describe()"
   ]
  },
  {
   "cell_type": "code",
   "execution_count": null,
   "metadata": {},
   "outputs": [],
   "source": [
    "# Create a box plot of vote_average\n",
    "sb.boxplot(x='vote_average', data=numericalmoviedata)\n",
    "plt.title('Box Plot of Vote Average')\n",
    "plt.show()\n",
    "\n",
    "# Create a violin plot of vote_average\n",
    "sb.violinplot(x='vote_average', data=numericalmoviedata)\n",
    "plt.title('Violin Plot of Vote Average')\n",
    "plt.show()\n",
    "\n",
    "# Create a histogram of vote_average\n",
    "sb.histplot(x='vote_average', data=numericalmoviedata)\n",
    "plt.title('Histogram of Vote Average')\n",
    "plt.show()\n"
   ]
  },
  {
   "cell_type": "code",
   "execution_count": null,
   "metadata": {},
   "outputs": [],
   "source": [
    "np.percentile(numericalmoviedata[\"vote_average\"],80)"
   ]
  },
  {
   "cell_type": "code",
   "execution_count": null,
   "metadata": {},
   "outputs": [],
   "source": [
    "(numericalmoviedata[\"vote_average\"] >= 7.2).value_counts()"
   ]
  },
  {
   "cell_type": "code",
   "execution_count": null,
   "metadata": {},
   "outputs": [],
   "source": [
    "onlynumericalmoviedata.corr()"
   ]
  },
  {
   "cell_type": "code",
   "execution_count": null,
   "metadata": {
    "scrolled": true
   },
   "outputs": [],
   "source": [
    "# Heatmap of the Correlation Matrix\n",
    "f = plt.figure(figsize=(12,12))\n",
    "sb.heatmap(onlynumericalmoviedata.corr(), vmin = -1, vmax = 1, annot = True, fmt = \".2f\")"
   ]
  },
  {
   "cell_type": "code",
   "execution_count": null,
   "metadata": {
    "scrolled": true
   },
   "outputs": [],
   "source": [
    "sb.pairplot(data = numericalmoviedata, corner = True)"
   ]
  },
  {
   "cell_type": "code",
   "execution_count": null,
   "metadata": {
    "scrolled": false
   },
   "outputs": [],
   "source": [
    "sb.pairplot(data=numericalmoviedata,\n",
    "                  y_vars=['vote_average'],\n",
    "                  x_vars=[\"popularity\",\"genre\", \"vote_count\", \"release_date\",\"release_year\",\"original_language\",\"casts\"])"
   ]
  },
  {
   "cell_type": "code",
   "execution_count": null,
   "metadata": {},
   "outputs": [],
   "source": []
  }
 ],
 "metadata": {
  "kernelspec": {
   "display_name": "Python 3 (ipykernel)",
   "language": "python",
   "name": "python3"
  },
  "language_info": {
   "codemirror_mode": {
    "name": "ipython",
    "version": 3
   },
   "file_extension": ".py",
   "mimetype": "text/x-python",
   "name": "python",
   "nbconvert_exporter": "python",
   "pygments_lexer": "ipython3",
   "version": "3.10.5"
  }
 },
 "nbformat": 4,
 "nbformat_minor": 2
}
